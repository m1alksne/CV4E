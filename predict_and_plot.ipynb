{
 "cells": [
  {
   "cell_type": "code",
   "execution_count": null,
   "id": "86146e80-0f20-4b98-9feb-a72260c29c6c",
   "metadata": {},
   "outputs": [],
   "source": [
    "# Jupiter notebook detailing how to evaluate opensoundscape blue whale model predictions from a novel dataset"
   ]
  },
  {
   "cell_type": "code",
   "execution_count": 1,
   "id": "77ae964e-88f0-4408-9ec1-3d39170ad538",
   "metadata": {},
   "outputs": [
    {
     "name": "stderr",
     "output_type": "stream",
     "text": [
      "C:\\Users\\DAM1\\miniconda3\\envs\\bigblue\\lib\\site-packages\\paramiko\\transport.py:219: CryptographyDeprecationWarning: Blowfish has been deprecated\n",
      "  \"class\": algorithms.Blowfish,\n"
     ]
    }
   ],
   "source": [
    "# read in packages\n",
    "from datetime import datetime\n",
    "import matplotlib.pyplot as plt\n",
    "import os\n",
    "import glob\n",
    "import opensoundscape\n",
    "import sys\n",
    "sys.path.append(r\"C:\\Users\\DAM1\\CV4E\")\n",
    "from AudioStreamDescriptor import XWAVhdr\n",
    "from opensoundscape import Audio, Spectrogram\n",
    "from  apply_transfer_function import TransferFunction\n",
    "from convert_audio_to_bits import convert_audio_to_bits\n",
    "import fsspec\n",
    "import random\n",
    "import pandas as pd\n",
    "import numpy as np\n",
    "from scipy.special import expit\n",
    "from sklearn.metrics import precision_recall_curve\n",
    "from sklearn.metrics import accuracy_score, precision_score, recall_score, f1_score, confusion_matrix"
   ]
  },
  {
   "cell_type": "code",
   "execution_count": 2,
   "id": "aa51eab9-179f-40eb-98aa-423a2d91a7a0",
   "metadata": {},
   "outputs": [],
   "source": [
    "# load in predictions\n",
    "predictions_SOCAL44N = pd.read_csv('L:\\CV4E\\BigBlueWave\\CV4E\\code\\BigBlueWhale-oss\\predictions\\SOCAL44N_predictions.csv', index_col=[0,1,2])"
   ]
  },
  {
   "cell_type": "code",
   "execution_count": null,
   "id": "4b98179d-0960-4724-a6fd-4f3f5638232d",
   "metadata": {},
   "outputs": [],
   "source": [
    "# investigate score distribution\n",
    "D_eval_index = predictions_SOCAL44N.index[predictions_SOCAL44N['D']==1]\n",
    "D_eval = predictions_SOCAL44N.loc[D_eval_index]\n",
    "D_noise_index = predictions_SOCAL44N.index[predictions_SOCAL44N['D']==0]\n",
    "D_noise = predictions_SOCAL44N.loc[D_noise_index]\n",
    "\n",
    "plt.hist(D_noise['pred_D'],bins=40,alpha=0.5,edgecolor='black',color='blue',label='Noise prediction score')\n",
    "plt.hist(D_eval['pred_D'],bins=40,alpha=0.5,edgecolor='black',color='orange',label='D call prediction score')\n",
    "plt.xlabel('Value')\n",
    "plt.ylabel('Frequency')\n",
    "plt.semilogy()\n",
    "plt.title('D call prediction scores test SOCAL44N')\n",
    "plt.legend(loc='upper right')"
   ]
  },
  {
   "cell_type": "code",
   "execution_count": null,
   "id": "b5a06a78-dc13-4ff1-9c6d-d7396f895443",
   "metadata": {},
   "outputs": [],
   "source": [
    "# plot precision recall curve\n",
    "precision, recall, thresholds = precision_recall_curve(predictions_SOCAL44N['D'], predictions_SOCAL44N['pred_D'])\n",
    "fig, ax = plt.subplots()\n",
    "ax.plot(recall, precision, color='purple')\n",
    "#add axis labels to plot\n",
    "ax.set_title('Precision-Recall Curve D calls SOCAL44N')\n",
    "ax.set_ylabel('Precision')\n",
    "ax.set_xlabel('Recall')\n",
    "#display plot\n",
    "plt.show()"
   ]
  },
  {
   "cell_type": "code",
   "execution_count": null,
   "id": "d082a4b2-d57e-4275-a1da-b538ced3b30c",
   "metadata": {},
   "outputs": [],
   "source": [
    "# generate confusion matrix and calculate other metrics\n",
    "threshold_index = np.argmax(precision >= 0.3) # based on PR curve.....\n",
    "chosen_threshold = thresholds[threshold_index]\n",
    "binary_D_predictions = (predictions_SOCAL44N['pred_D'] >= chosen_threshold).astype(int) # converts to zeros and ones for the calls above this prediction score...\n",
    "accuracy_value = accuracy_score(predictions_SOCAL44N['D'], binary_D_predictions)\n",
    "precision_value = precision_score(predictions_SOCAL44N['D'], binary_D_predictions)\n",
    "recall_value = recall_score(predictions_SOCAL44N['D'], binary_D_predictions)\n",
    "f1 = f1_score(predictions_SOCAL44N['D'], binary_D_predictions)\n",
    "conf_matrix = confusion_matrix(predictions_SOCAL44N['D'], binary_D_predictions)\n",
    "print(\"    TN\", \"  FP\")\n",
    "print(\"    FN\",\"  TP\")\n",
    "print(conf_matrix)"
   ]
  },
  {
   "cell_type": "code",
   "execution_count": null,
   "id": "14b717cc-438b-4678-98b2-104143141ca4",
   "metadata": {},
   "outputs": [],
   "source": [
    "# read in transfer function\n",
    "tf_path = 'L:\\\\CV4E\\\\BigBlueWave\\\\CV4E\\\\transfer_functions\\\\618_101105_B_HARP_CINMS18B.tf'\n",
    "TF = pd.read_csv(tf_path,delim_whitespace=True,header=None)\n",
    "TF.columns=['frequency','calibration']"
   ]
  },
  {
   "cell_type": "code",
   "execution_count": null,
   "id": "7b38a250-56b5-4c19-86c5-300a0e14a477",
   "metadata": {},
   "outputs": [],
   "source": [
    "def apply_transfer_function(spec,tf_dataframe,decibel_limits=None):\n",
    "    \"\"\"\n",
    "    apply transfer function to opensoundscape.Spectrogram object\n",
    "    \n",
    "    helper function to apply transfer function to Spectrogram\n",
    "    transfer function is list of | freq | dB offset |\n",
    "    we should interpolate to the frequencies contained in the specrogram\n",
    "\n",
    "    Args:\n",
    "        spec: a Specrogram object\n",
    "        tf_dataframe: dataframe with columns 'freq' (frequencies in Hz) and 'intensity' (dB offset)\n",
    "        decibel_limits: default None will use original spectrogram's .decibel_units attribute;\n",
    "            optionally specify a new decibel_limits range for the returned Spectrogram\n",
    "    \"\"\"\n",
    "    if decibel_limits is None:\n",
    "        decibel_limits = spec.decibel_limits\n",
    "        \n",
    "    #extract frequency column and intensity column from transfer function dataframe\n",
    "    transfer_function_freqs = tf_dataframe.frequency.values\n",
    "    transfer_function_offsets = tf_dataframe.calibration.values\n",
    "    \n",
    "    # linearly interpolate the frequencies from the transfer function table\n",
    "    # onto the frequencies of the spectrogram to get offsets for each spectrogram row\n",
    "    spec_offsets = np.interp(spec.frequencies,transfer_function_freqs, transfer_function_offsets)\n",
    "    \n",
    "    # add the offset values to each row of the spectrogram\n",
    "    new_spec_values = (spec.spectrogram.transpose() + np.array(spec_offsets)).transpose()\n",
    "    \n",
    "    #create a new spectrogram object with the new values\n",
    "    return opensoundscape.Spectrogram(new_spec_values,times=spec.times,frequencies=spec.frequencies,decibel_limits=decibel_limits)"
   ]
  },
  {
   "cell_type": "code",
   "execution_count": null,
   "id": "07ed1576-e325-4f82-8eb2-aec677766922",
   "metadata": {},
   "outputs": [],
   "source": [
    "# investigate high scoring D calls for SOCAL44N\n",
    "# evaluate D call true postives with high prediction scores\n",
    "\n",
    "D_eval_tp = D_eval[D_eval['pred_D'] > 10]\n",
    "D_eval_tp = D_eval_tp.reset_index()\n",
    "\n",
    "# bit transform\n",
    "bits = 16 \n",
    "abs_max = 2 ** (bits - 1)\n",
    "\n",
    "# Create a for loop to process each false positive\n",
    "for index, row in D_eval_tp.iterrows():\n",
    "    file_path = row['file']\n",
    "    start_time = row['start_time']\n",
    "    annotations = [row['D'],row['A NE Pacific'], row['B NE Pacific']]\n",
    "    predictions = [row['pred_D'],row['pred_A'], row['pred_B']]\n",
    "    rounded_predictions = [round(p, 2) for p in predictions]\n",
    "    \n",
    "    # Load the audio\n",
    "    D_fp = opensoundscape.Audio.from_file(file_path, sample_rate=2000, offset=start_time, duration=15)\n",
    "    \n",
    "    # Scale the audio\n",
    "    D_fp.samples = np.float64(D_fp.samples) * abs_max\n",
    "    \n",
    "    # Create a spectrogram\n",
    "    D_fp1 = opensoundscape.Spectrogram.from_audio(D_fp, window_type='hamming', window_samples=1000, \n",
    "                                                  overlap_samples=900, fft_size=2000, \n",
    "                                                  decibel_limits=(-200,200), scaling='density')\n",
    "    \n",
    "    # Apply the transfer function\n",
    "    D_fp1_TF = apply_transfer_function(D_fp1, TF, decibel_limits=(40, 140))\n",
    "    \n",
    "    # Bandpass filter and plot\n",
    "    # \n",
    "    filtered_image = D_fp1_TF.bandpass(10, 150).to_image()\n",
    "    \n",
    "    # Display the image using matplotlib\n",
    "    plt.imshow(filtered_image)\n",
    "    plt.axis('off')  # Turn off axis labels and ticks\n",
    "    plt.show()\n",
    "\n",
    "    print(f'Annotations: D={annotations[0]},A NE Pacific={annotations[1]}, B NE Pacific={annotations[2]}')\n",
    "    print(f'Predictions: D={rounded_predictions[0]},A NE Pacific={rounded_predictions[1]}, B NE Pacific={rounded_predictions[2]}')\n"
   ]
  }
 ],
 "metadata": {
  "kernelspec": {
   "display_name": "Python 3 (Spyder)",
   "language": "python3",
   "name": "python3"
  },
  "language_info": {
   "codemirror_mode": {
    "name": "ipython",
    "version": 3
   },
   "file_extension": ".py",
   "mimetype": "text/x-python",
   "name": "python",
   "nbconvert_exporter": "python",
   "pygments_lexer": "ipython3",
   "version": "3.9.18"
  }
 },
 "nbformat": 4,
 "nbformat_minor": 5
}
